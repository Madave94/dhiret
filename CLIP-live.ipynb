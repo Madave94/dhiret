{
 "cells": [
  {
   "cell_type": "code",
   "execution_count": 1,
   "id": "dee57e3a",
   "metadata": {
    "pycharm": {
     "name": "#%%\n"
    }
   },
   "outputs": [],
   "source": [
    "# Import libraries\n",
    "from dhiret.common.utils import load_model, build_annoy_index\n",
    "from pathlib import Path\n",
    "import json\n",
    "import csv\n",
    "\n",
    "# Set model parameters to load the correct model\n",
    "model_name = \"clip\"\n",
    "model_version = \"ViT-bigG-14\"\n",
    "clip_dataset_and_epoch = \"laion2b_s39b_b160k\"\n",
    "embedding_size = 1280\n",
    "# Load annoy index\n",
    "embeddings_folder = Path(\"embeddings\")\n",
    "index_file_path = embeddings_folder / f\"{model_name}_{model_version}_index.ann\"\n",
    "image_name_list_file_path = embeddings_folder / f\"{model_name}_{model_version}_image_name_list.json\"\n",
    "index = build_annoy_index(embedding_size, index_file_path)\n",
    "with open(image_name_list_file_path, \"r\") as f:\n",
    "    image_name_list = json.load(f)"
   ]
  },
  {
   "cell_type": "markdown",
   "id": "1bc4dd1a",
   "metadata": {},
   "source": [
    "### CLIP ViT-bigG-14\n",
    "Used laion2b_s39b_b160k on https://github.com/mlfoundations/open_clip  \n",
    "\n",
    "    mAP (L1+L2)/2: 55.9  \n",
    "    mAP L1 (Primary Instance): 54.2  \n",
    "    mAP L2 (Secondary Category): 57.6  "
   ]
  },
  {
   "cell_type": "code",
   "execution_count": 2,
   "id": "8ad84831",
   "metadata": {
    "pycharm": {
     "name": "#%%\n"
    }
   },
   "outputs": [
    {
     "data": {
      "application/vnd.jupyter.widget-view+json": {
       "model_id": "2a5353dfd2d74a46b6cfcd9195f8fd57",
       "version_major": 2,
       "version_minor": 0
      },
      "text/plain": [
       "Text(value='', description='Search:')"
      ]
     },
     "metadata": {},
     "output_type": "display_data"
    },
    {
     "data": {
      "application/vnd.jupyter.widget-view+json": {
       "model_id": "e67e58e2271f4a5a8e34c208980edef4",
       "version_major": 2,
       "version_minor": 0
      },
      "text/plain": [
       "Button(description='Search Images', style=ButtonStyle())"
      ]
     },
     "metadata": {},
     "output_type": "display_data"
    },
    {
     "data": {
      "application/vnd.jupyter.widget-view+json": {
       "model_id": "d19f10faa5014630b2f9aa661fd09708",
       "version_major": 2,
       "version_minor": 0
      },
      "text/plain": [
       "Label(value='')"
      ]
     },
     "metadata": {},
     "output_type": "display_data"
    },
    {
     "data": {
      "application/vnd.jupyter.widget-view+json": {
       "model_id": "206de27094964adaaf09a30cb2116b8f",
       "version_major": 2,
       "version_minor": 0
      },
      "text/plain": [
       "Output()"
      ]
     },
     "metadata": {},
     "output_type": "display_data"
    },
    {
     "data": {
      "application/vnd.jupyter.widget-view+json": {
       "model_id": "67595575d58044bf9d75afafcfcca18c",
       "version_major": 2,
       "version_minor": 0
      },
      "text/plain": [
       "Dropdown(description='Select image:', options=(), value=None)"
      ]
     },
     "metadata": {},
     "output_type": "display_data"
    },
    {
     "data": {
      "application/vnd.jupyter.widget-view+json": {
       "model_id": "d86c632919c84a16b17c06ccc60d87ef",
       "version_major": 2,
       "version_minor": 0
      },
      "text/plain": [
       "Button(description='Preview Image', style=ButtonStyle())"
      ]
     },
     "metadata": {},
     "output_type": "display_data"
    },
    {
     "data": {
      "application/vnd.jupyter.widget-view+json": {
       "model_id": "c29089ac8a8e44a7a36f0e5c98c08251",
       "version_major": 2,
       "version_minor": 0
      },
      "text/plain": [
       "Output()"
      ]
     },
     "metadata": {},
     "output_type": "display_data"
    }
   ],
   "source": [
    "##### import ipywidgets as widgets\n",
    "from IPython.display import display, clear_output\n",
    "import ipywidgets as widgets\n",
    "from ipywidgets import IntSlider, Label, HTML\n",
    "from pathlib import Path\n",
    "import PIL\n",
    "\n",
    "def open_image(image_path, width=150, resampling_method=PIL.Image.Resampling.LANCZOS):\n",
    "    img = PIL.Image.open(image_path).convert(\"RGB\")\n",
    "    original_width, original_height = img.size\n",
    "    aspect_ratio = original_height / original_width\n",
    "    new_width = width\n",
    "    new_height = int(new_width * aspect_ratio)\n",
    "    img_resized = img.resize((new_width, new_height), resampling_method)\n",
    "    return img_resized\n",
    "\n",
    "# Custom Button Class\n",
    "class PathedButton(widgets.Button):\n",
    "    def __init__(self, image_path, *args, **kwargs):\n",
    "        super().__init__(*args, **kwargs)\n",
    "        self.image_path = image_path\n",
    "\n",
    "def get_all_images(image_folder):\n",
    "    image_extensions = ('.jpg', '.jpeg', '.png', '.tif')\n",
    "    image_folder_path = Path(image_folder)\n",
    "    all_images = [str(file_path) for file_path in image_folder_path.rglob('*') if file_path.suffix.lower() in image_extensions]\n",
    "    return all_images\n",
    "\n",
    "def on_preview_button_click(button):\n",
    "    image_path = image_selector.value\n",
    "    with selected_image_output:\n",
    "        clear_output()\n",
    "        display(open_image(image_path))\n",
    "\n",
    "def on_preview_image_click(button):\n",
    "    image_path = button.image_path\n",
    "    on_preview_image_click.selected_image_path = image_path  # Store the selected image path as an attribute of the function\n",
    "    \n",
    "    with selected_image_output:\n",
    "        clear_output()\n",
    "        display(open_image(image_path))\n",
    "\n",
    "\n",
    "def on_search_button_click(button):\n",
    "    search_query = search_box.value\n",
    "    if not search_query.strip():\n",
    "        with previews_output:\n",
    "            clear_output()\n",
    "            display(widgets.Label(\"Please enter a search query.\"))\n",
    "        num_found_images.value = \"\"\n",
    "        return\n",
    "    matching_images = [image_path for image_path in all_image_paths if search_query.lower() in image_path.lower()]\n",
    "    image_selector.options = matching_images\n",
    "    \n",
    "    # Display the number of found images\n",
    "    num_found_images.value = f\"Number of found images: {len(matching_images)}\"\n",
    "    \n",
    "    # Clear old previews\n",
    "    with previews_output:\n",
    "        clear_output()\n",
    "        \n",
    "        # Display new previews\n",
    "        preview_images = []\n",
    "        preview_buttons = []\n",
    "\n",
    "        for image_path in matching_images[:5]:\n",
    "            img = open_image(image_path)\n",
    "\n",
    "            img_widget = widgets.Image(value=img._repr_png_(), width=img.width, height=img.height)\n",
    "            preview_images.append(img_widget)\n",
    "\n",
    "            button = PathedButton(image_path=image_path, description=\"Select\")\n",
    "            button.on_click(on_preview_image_click)\n",
    "            preview_buttons.append(button)\n",
    "\n",
    "\n",
    "        with previews_output:\n",
    "            clear_output()\n",
    "            display(widgets.GridBox(preview_images + preview_buttons, layout=widgets.Layout(grid_template_columns=\"repeat(5, 1fr)\")))\n",
    "\n",
    "image_folder = \"data\"\n",
    "\n",
    "# Create the list of all image file paths\n",
    "all_image_paths = get_all_images(image_folder)\n",
    "\n",
    "# Create the widgets\n",
    "search_box = widgets.Text(description='Search:')\n",
    "search_button = widgets.Button(description=\"Search Images\")\n",
    "search_button.on_click(on_search_button_click)\n",
    "\n",
    "image_selector = widgets.Dropdown(description='Select image:')\n",
    "\n",
    "preview_button = widgets.Button(description=\"Preview Image\")\n",
    "preview_button.on_click(on_preview_button_click)\n",
    "\n",
    "num_found_images = widgets.Label(value=\"\")\n",
    "\n",
    "previews_output = widgets.Output()\n",
    "\n",
    "selected_image_output = widgets.Output()\n",
    "\n",
    "\n",
    "# Display the widgets\n",
    "display(search_box)\n",
    "display(search_button)\n",
    "display(num_found_images)\n",
    "display(previews_output)\n",
    "display(image_selector)\n",
    "display(preview_button)\n",
    "display(selected_image_output)\n",
    "\n",
    "# Initialize the found images variable\n",
    "found_images = []"
   ]
  },
  {
   "cell_type": "code",
   "execution_count": 3,
   "id": "c418f7b8",
   "metadata": {
    "pycharm": {
     "name": "#%%\n"
    }
   },
   "outputs": [
    {
     "data": {
      "application/vnd.jupyter.widget-view+json": {
       "model_id": "83f50bb40d9a4d288fe8f1daf6e6c0ec",
       "version_major": 2,
       "version_minor": 0
      },
      "text/plain": [
       "Button(description='Query Selected Image', style=ButtonStyle())"
      ]
     },
     "metadata": {},
     "output_type": "display_data"
    },
    {
     "data": {
      "application/vnd.jupyter.widget-view+json": {
       "model_id": "b2267188e12b4d36bb478d1a9e8b962a",
       "version_major": 2,
       "version_minor": 0
      },
      "text/plain": [
       "Output()"
      ]
     },
     "metadata": {},
     "output_type": "display_data"
    },
    {
     "data": {
      "application/vnd.jupyter.widget-view+json": {
       "model_id": "6d0e4cfd658440dd819289d5784a329c",
       "version_major": 2,
       "version_minor": 0
      },
      "text/plain": [
       "Button(description='Save Retrieval Results', style=ButtonStyle())"
      ]
     },
     "metadata": {},
     "output_type": "display_data"
    }
   ],
   "source": [
    "def on_query_selected_image_click(button):\n",
    "    if not hasattr(on_preview_image_click, 'selected_image_path'):\n",
    "        print(\"No image selected.\")\n",
    "        return\n",
    "\n",
    "    image_path = on_preview_image_click.selected_image_path\n",
    "\n",
    "    # Find the index of the image_path in the image_name_list\n",
    "    try:\n",
    "        image_index = image_name_list.index(image_path)\n",
    "    except ValueError:\n",
    "        print(f\"Image path {image_path} not found in the image_name_list\")\n",
    "        return\n",
    "\n",
    "    # Get the embedding from the annoy index\n",
    "    embedding = index.get_item_vector(image_index)\n",
    "    \n",
    "    # Query the annoy index using the embedding\n",
    "    num_nearest_neighbors = 10\n",
    "    nearest_neighbors_indices = index.get_nns_by_vector(embedding, num_nearest_neighbors, include_distances=True)\n",
    "    nearest_neighbors_paths_distances = [(image_name_list[i], d) for i, d in zip(*nearest_neighbors_indices)]\n",
    "    nearest_neighbors_paths = [image_name_list[i] for i in nearest_neighbors_indices[0]]\n",
    "    \n",
    "    # Store the last retrieval results and the query image path as attributes of the function\n",
    "    on_query_selected_image_click.last_retrieval_results = nearest_neighbors_paths_distances\n",
    "    on_query_selected_image_click.query_image_path = image_path\n",
    "\n",
    "    with retrieved_images_output:\n",
    "        clear_output()\n",
    "        \n",
    "        retrieved_images = []\n",
    "\n",
    "        for neighbor_path, distance in nearest_neighbors_paths_distances:\n",
    "            img = open_image(neighbor_path)\n",
    "\n",
    "            img_widget = widgets.Image(value=img._repr_png_(), width=img.width, height=img.height)\n",
    "            img_label = widgets.Textarea(value=neighbor_path, layout=widgets.Layout(width='150px', height='50px', overflow_y='scroll'), disabled=True)\n",
    "            distance_label = widgets.Label(value=f\"Distance: {distance:.4f}\", layout=widgets.Layout(width='150px'))\n",
    "            retrieved_images.append(widgets.VBox([img_widget, img_label, distance_label]))\n",
    "\n",
    "        display(widgets.GridBox(retrieved_images, layout=widgets.Layout(grid_template_columns=\"repeat(5, 1fr)\")))\n",
    "        \n",
    "def save_retrieval_results_to_csv(button):\n",
    "    if not hasattr(on_query_selected_image_click, \"last_retrieval_results\"):\n",
    "        print(\"No retrieval results to save.\")\n",
    "        return\n",
    "\n",
    "    retrieval_results = on_query_selected_image_click.last_retrieval_results\n",
    "    query_image_path = Path(on_query_selected_image_click.query_image_path)\n",
    "    file_name = query_image_path.as_posix().replace(\"/\", \"_\") + \".csv\"\n",
    "\n",
    "    results_dir = Path(\"results\")\n",
    "    results_dir.mkdir(exist_ok=True)\n",
    "\n",
    "    output_file = results_dir / file_name\n",
    "\n",
    "    with output_file.open(\"w\", newline=\"\") as csvfile:\n",
    "        csv_writer = csv.writer(csvfile)\n",
    "        csv_writer.writerow([\"file_path\", \"distance\"])\n",
    "\n",
    "        for path, distance in retrieval_results:\n",
    "            csv_writer.writerow([path, distance])\n",
    "\n",
    "    print(f\"Saved retrieval results to {output_file}\")\n",
    "\n",
    "# Create the new button\n",
    "query_selected_image_button = widgets.Button(description=\"Query Selected Image\")\n",
    "query_selected_image_button.on_click(on_query_selected_image_click)\n",
    "\n",
    "# Create button for saving csv results\n",
    "save_results_button = widgets.Button(description=\"Save Retrieval Results\")\n",
    "save_results_button.on_click(save_retrieval_results_to_csv)\n",
    "\n",
    "# Create the retrieved images output widget\n",
    "retrieved_images_output = widgets.Output()\n",
    "\n",
    "# Display the new button and the retrieved images output widget\n",
    "display(query_selected_image_button)\n",
    "display(retrieved_images_output)\n",
    "display(save_results_button)"
   ]
  },
  {
   "cell_type": "code",
   "execution_count": null,
   "id": "0e40e58b",
   "metadata": {
    "pycharm": {
     "name": "#%%\n"
    }
   },
   "outputs": [],
   "source": []
  }
 ],
 "metadata": {
  "kernelspec": {
   "display_name": "Python 3 (ipykernel)",
   "language": "python",
   "name": "python3"
  },
  "language_info": {
   "codemirror_mode": {
    "name": "ipython",
    "version": 3
   },
   "file_extension": ".py",
   "mimetype": "text/x-python",
   "name": "python",
   "nbconvert_exporter": "python",
   "pygments_lexer": "ipython3",
   "version": "3.8.16"
  }
 },
 "nbformat": 4,
 "nbformat_minor": 5
}
